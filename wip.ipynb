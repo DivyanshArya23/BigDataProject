{
 "cells": [
  {
   "cell_type": "code",
   "execution_count": 21,
   "metadata": {},
   "outputs": [],
   "source": [
    "#import numpy as np\n",
    "import pandas as pd\n",
    "\n",
    "df = pd.read_excel (r'Species.xlsx')\n",
    "#print (df)\n",
    "\n",
    "endangered=[]\n",
    "for index,row in df.iterrows():\n",
    "    if(row['isEndangered']==1):\n",
    "        endangered.append(row)\n",
    "# print(endangered)\n",
    "# for i in endangered:\n",
    "#     print('-'*10)\n",
    "#     print(i)\n",
    "\n",
    "def checkFemaleAge(age):\n",
    "    if(age<int(name['Breed Age Limit'])):\n",
    "        return True\n",
    "    else:\n",
    "        return False\n",
    "    \n",
    "def checkChildAge():\n",
    "    global female\n",
    "    global children\n",
    "    mAge=int(name['Maturity Age'])\n",
    "    tempChildren=[]\n",
    "    for i in range(len(children)):\n",
    "        x=children[i]\n",
    "        if(x>=mAge):\n",
    "            females.append(x)\n",
    "        else:\n",
    "            tempChildren.append(x)\n",
    "    children=tempChildren\n",
    "    \n",
    "def checkFemaleLife():\n",
    "    global females\n",
    "    mAge=int(name['Life Expectancy'])\n",
    "    tempFemales=[]\n",
    "    for i in range(len(females)):\n",
    "        x=females[i]\n",
    "        if(x<mAge):\n",
    "            tempFemales.append(x)\n",
    "    females=tempFemales\n",
    "\n",
    "def breed():\n",
    "    global children\n",
    "    children+=[0]*(len(females)*int(name['Birth Factor']))\n",
    "\n",
    "def ageInc(age):\n",
    "    age+=(name['Time to Breed(yrs)'])\n",
    "    return age"
   ]
  },
  {
   "cell_type": "code",
   "execution_count": 22,
   "metadata": {},
   "outputs": [
    {
     "name": "stdout",
     "output_type": "stream",
     "text": [
      "Species               Asiatic Lion\n",
      "Count                          356\n",
      "isEndangered                     1\n",
      "Birth Factor                     4\n",
      "Time to Breed(yrs)               2\n",
      "Breed Age Limit                 15\n",
      "Maturity Age                    10\n",
      "Life Expectancy                 20\n",
      "Threshold                      700\n",
      "Name: 0, dtype: object\n",
      "280^F= 69\n",
      "C= 276\n",
      "280^F= 69\n",
      "C= 552\n",
      "267^F= 56\n",
      "C= 828\n",
      "234^F= 23\n",
      "C= 1052\n",
      "487^F= 276\n",
      "C= 868\n",
      "763^F= 552\n",
      "C= 1696\n",
      "Asiatic Lion saved after 12.0 years\n",
      "Species               Bengal Tiger\n",
      "Count                          346\n",
      "isEndangered                     1\n",
      "Birth Factor                     3\n",
      "Time to Breed(yrs)               2\n",
      "Breed Age Limit                 10\n",
      "Maturity Age                     5\n",
      "Life Expectancy                 15\n",
      "Threshold                      700\n",
      "Name: 1, dtype: object\n",
      "268^F= 66\n",
      "C= 198\n",
      "268^F= 66\n",
      "C= 396\n",
      "455^F= 253\n",
      "C= 396\n",
      "633^F= 431\n",
      "C= 957\n",
      "796^F= 594\n",
      "C= 2052\n",
      "Bengal Tiger saved after 10.0 years\n",
      "Species               Black Buck\n",
      "Count                        354\n",
      "isEndangered                   1\n",
      "Birth Factor                   2\n",
      "Time to Breed(yrs)           0.5\n",
      "Breed Age Limit                9\n",
      "Maturity Age                   4\n",
      "Life Expectancy               13\n",
      "Threshold                    700\n",
      "Name: 2, dtype: object\n",
      "286^F= 86\n",
      "C= 172\n",
      "286^F= 86\n",
      "C= 344\n",
      "286^F= 86\n",
      "C= 516\n",
      "286^F= 86\n",
      "C= 688\n",
      "286^F= 86\n",
      "C= 860\n",
      "286^F= 86\n",
      "C= 1032\n",
      "286^F= 86\n",
      "C= 1204\n",
      "458^F= 258\n",
      "C= 1204\n",
      "630^F= 430\n",
      "C= 1548\n",
      "786^F= 586\n",
      "C= 2236\n",
      "Black Buck saved after 5.0 years\n",
      "Species               Red Panda\n",
      "Count                        93\n",
      "isEndangered                  1\n",
      "Birth Factor                  3\n",
      "Time to Breed(yrs)            1\n",
      "Breed Age Limit              12\n",
      "Maturity Age                  5\n",
      "Life Expectancy              15\n",
      "Threshold                   700\n",
      "Name: 3, dtype: object\n",
      "83^F= 28\n",
      "C= 84\n",
      "83^F= 28\n",
      "C= 168\n",
      "83^F= 28\n",
      "C= 252\n",
      "77^F= 22\n",
      "C= 336\n",
      "154^F= 99\n",
      "C= 318\n",
      "236^F= 181\n",
      "C= 531\n",
      "318^F= 263\n",
      "C= 990\n",
      "398^F= 343\n",
      "C= 1695\n",
      "462^F= 407\n",
      "C= 2658\n",
      "754^F= 699\n",
      "C= 3582\n",
      "Red Panda saved after 10.0 years\n"
     ]
    }
   ],
   "source": [
    "for name in endangered:\n",
    "    print(name)\n",
    "    sp=pd.read_excel(name['Species']+'.xlsx')\n",
    "    females=[]\n",
    "    children=[]\n",
    "    timeTaken=0\n",
    "    l=len(sp.index)\n",
    "    for index,row in sp.iterrows():\n",
    "        if(index<l-1):\n",
    "            temp=filter(checkFemaleAge,list(map(int,row['Female Age Array'].split(','))))\n",
    "            females+=temp\n",
    "    while((sp['Male Count'].iloc[-1]+len(females)<name['Threshold'])):\n",
    "        breed()\n",
    "        females=list(map(ageInc,females))\n",
    "        children=list(map(ageInc,children))\n",
    "        timeTaken+=(name['Time to Breed(yrs)'])\n",
    "\n",
    "        checkFemaleLife()\n",
    "        checkChildAge()\n",
    "        print(sp['Male Count'].iloc[-1]+len(females),end='^')\n",
    "        print('F=',len(females))\n",
    "        print('C=',len(children))\n",
    "\n",
    "    print(name['Species']+' saved after',timeTaken,'years')"
   ]
  },
  {
   "cell_type": "code",
   "execution_count": 23,
   "metadata": {},
   "outputs": [],
   "source": [
    "name=endangered[0]"
   ]
  },
  {
   "cell_type": "code",
   "execution_count": 18,
   "metadata": {},
   "outputs": [],
   "source": [
    "sp=pd.read_excel(name['Species']+'.xlsx')\n",
    "females=[]\n",
    "children=[]\n",
    "timeTaken=0\n",
    "l=len(sp.index)\n",
    "for index,row in sp.iterrows():\n",
    "    if(index<l-1):\n",
    "        temp=filter(checkFemaleAge,list(map(int,row['Female Age Array'].split(','))))\n",
    "        females+=temp"
   ]
  },
  {
   "cell_type": "code",
   "execution_count": 19,
   "metadata": {},
   "outputs": [
    {
     "name": "stdout",
     "output_type": "stream",
     "text": [
      "[14, 11, 11, 11, 12, 12, 12, 13, 12, 12, 10, 12, 13, 11, 12, 12, 12, 14, 10, 11, 10, 11, 12, 14, 10, 10, 12, 11, 11, 12, 14, 14, 11, 14, 10, 11, 13, 13, 12, 11, 14, 12, 14, 13, 12, 14, 13, 13, 12, 14, 12, 12, 10, 11, 12, 13, 13, 13, 10, 14, 12, 12, 10, 10, 12, 14, 13, 14, 11]\n"
     ]
    }
   ],
   "source": [
    "print(females)"
   ]
  },
  {
   "cell_type": "code",
   "execution_count": 21,
   "metadata": {},
   "outputs": [
    {
     "name": "stdout",
     "output_type": "stream",
     "text": [
      "Asiatic Lion saved after 12 years\n"
     ]
    }
   ],
   "source": [
    "while((sp['Male Count'].iloc[-1]+len(females)<name['Threshold'])):\n",
    "    breed()\n",
    "    females=list(map(ageInc,females))\n",
    "    children=list(map(ageInc,children))\n",
    "    timeTaken+=int(name['Time to Breed(yrs)'])\n",
    "    \n",
    "    checkFemaleLife()\n",
    "    checkChildAge()\n",
    "    \n",
    "print(name['Species']+' saved after',timeTaken,'years')"
   ]
  },
  {
   "cell_type": "code",
   "execution_count": 14,
   "metadata": {},
   "outputs": [
    {
     "data": {
      "text/plain": [
       "True"
      ]
     },
     "execution_count": 14,
     "metadata": {},
     "output_type": "execute_result"
    }
   ],
   "source": [
    "sp['Male Count'].iloc[-1]+len(females)<name['Threshold']"
   ]
  },
  {
   "cell_type": "code",
   "execution_count": 13,
   "metadata": {},
   "outputs": [
    {
     "data": {
      "text/plain": [
       "700"
      ]
     },
     "execution_count": 13,
     "metadata": {},
     "output_type": "execute_result"
    }
   ],
   "source": [
    "name['Threshold']"
   ]
  },
  {
   "cell_type": "code",
   "execution_count": null,
   "metadata": {},
   "outputs": [],
   "source": []
  }
 ],
 "metadata": {
  "kernelspec": {
   "display_name": "Python 3",
   "language": "python",
   "name": "python3"
  },
  "language_info": {
   "codemirror_mode": {
    "name": "ipython",
    "version": 3
   },
   "file_extension": ".py",
   "mimetype": "text/x-python",
   "name": "python",
   "nbconvert_exporter": "python",
   "pygments_lexer": "ipython3",
   "version": "3.7.3"
  }
 },
 "nbformat": 4,
 "nbformat_minor": 2
}
