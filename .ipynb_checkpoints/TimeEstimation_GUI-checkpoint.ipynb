{
 "cells": [
  {
   "cell_type": "markdown",
   "metadata": {},
   "source": [
    "#### Importing required libraries"
   ]
  },
  {
   "cell_type": "code",
   "execution_count": 10,
   "metadata": {},
   "outputs": [],
   "source": [
    "#import numpy as np\n",
    "import pandas as pd\n",
    "import tkinter as tk\n",
    "import tkinter.ttk\n",
    "from tkinter import messagebox"
   ]
  },
  {
   "cell_type": "code",
   "execution_count": 8,
   "metadata": {},
   "outputs": [],
   "source": [
    "def checkFemaleAge(age):\n",
    "    if(age<int(name['Breed Age Limit'])):\n",
    "        return True\n",
    "    else:\n",
    "        return False\n",
    "    \n",
    "def checkChildAge():\n",
    "    global female\n",
    "    global children\n",
    "    mAge=int(name['Maturity Age'])\n",
    "    tempChildren=[]\n",
    "    for i in range(len(children)):\n",
    "        x=children[i]\n",
    "        if(x>=mAge):\n",
    "            females.append(x)\n",
    "        else:\n",
    "            tempChildren.append(x)\n",
    "    children=tempChildren\n",
    "\n",
    "def checkFemaleLife():\n",
    "    global females\n",
    "    mAge=int(name['Life Expectancy'])\n",
    "    tempFemales=[]\n",
    "    for i in range(len(females)):\n",
    "        x=females[i]\n",
    "        if(x<mAge):\n",
    "            tempFemales.append(x)\n",
    "    females=tempFemales\n",
    "\n",
    "def breed():\n",
    "    global children\n",
    "    children+=[0]*(len(females)*int(name['Birth Factor']))\n",
    "    \n",
    "def ageInc(age):\n",
    "    age+=(name['Time to Breed(yrs)'])\n",
    "    return age"
   ]
  },
  {
   "cell_type": "code",
   "execution_count": 23,
   "metadata": {},
   "outputs": [],
   "source": [
    "#creating tkinter window object-----------------------------------\n",
    "root=tk.Tk()\n",
    "root.title(\"Movie Recommender\")\n",
    "root.geometry('800x400')\n",
    "\n",
    "#getting_data_ready------------------------------------------------------------------\n",
    "df = pd.read_excel (r'Species.xlsx')\n",
    "\n",
    "# df = pd.read_excel (r'Species.xlsx')\n",
    "# endangered=[]\n",
    "# for index,row in df.iterrows():\n",
    "#     if(row['isEndangered']==1):\n",
    "#         endangered.append(row)\n",
    "        \n",
    "#Analyse----------------------------------------------------------------\n",
    "def GetData():\n",
    "    res=C1.get()\n",
    "    if(res!='<Select a Species>'):\n",
    "        name=''\n",
    "        for index,row in df.iterrows():\n",
    "            if(row['Species']==res):\n",
    "                name=row\n",
    "                break\n",
    "\n",
    "        sp=pd.read_excel(name['Species']+'.xlsx')\n",
    "\n",
    "        L1=tk.Label(root,text=\"Male Count\",fg=\"black\",font=('bold',9))\n",
    "        L1.pack()\n",
    "        L1.place(x=100,y=120)\n",
    "        L1=tk.Label(root,text=\"Female Count\",fg=\"black\",font=('bold',9))\n",
    "        L1.pack()\n",
    "        L1.place(x=220,y=120)\n",
    "        L1=tk.Label(root,text=\"Birth Factor\",fg=\"black\",font=('bold',9))\n",
    "        L1.pack()\n",
    "        L1.place(x=100,y=180)\n",
    "        L1=tk.Label(root,text=\"Time to Breed\",fg=\"black\",font=('bold',9))\n",
    "        L1.pack()\n",
    "        L1.place(x=220,y=180)\n",
    "        L1=tk.Label(root,text=\"Breed Age Limit\",fg=\"black\",font=('bold',9))\n",
    "        L1.pack()\n",
    "        L1.place(x=100,y=240)\n",
    "        L1=tk.Label(root,text=\"Maturity Age\",fg=\"black\",font=('bold',9))\n",
    "        L1.pack()\n",
    "        L1.place(x=220,y=240)\n",
    "        L1=tk.Label(root,text=\"Life Expectancy\",fg=\"black\",font=('bold',9))\n",
    "        L1.pack()\n",
    "        L1.place(x=100,y=300)\n",
    "        L1=tk.Label(root,text=\"Conserving Threshold\",fg=\"black\",font=('bold',9))\n",
    "        L1.pack()\n",
    "        L1.place(x=220,y=300)\n",
    "\n",
    "        messagebox.showinfo('Report','Data Fetched')\n",
    "\n",
    "    else:\n",
    "        messagebox.showinfo('Alert!','Please select a movie')\n",
    "        \n",
    "specieslist=list(df['Species'])\n",
    "specieslist.sort()\n",
    "C1=tk.ttk.Combobox(root,value=specieslist,width=50,state=\"readonly\")\n",
    "C1.set('<Select a Species>')\n",
    "C1.pack()\n",
    "C1.place(x=40,y=52)\n",
    "\n",
    "B1=tk.Button(root,text='Get Data',command=GetData,bd=5)\n",
    "B1.pack()\n",
    "B1.place(x=380,y=47)\n",
    "\n",
    "\n",
    "#running the tkinter window-------------------------------------------------------------------\n",
    "root.resizable(width=False,height=False)\n",
    "root.mainloop()"
   ]
  },
  {
   "cell_type": "code",
   "execution_count": 6,
   "metadata": {},
   "outputs": [
    {
     "ename": "ValueError",
     "evalue": "The truth value of a Series is ambiguous. Use a.empty, a.bool(), a.item(), a.any() or a.all().",
     "output_type": "error",
     "traceback": [
      "\u001b[1;31m---------------------------------------------------------------------------\u001b[0m",
      "\u001b[1;31mValueError\u001b[0m                                Traceback (most recent call last)",
      "\u001b[1;32m<ipython-input-6-948f16770454>\u001b[0m in \u001b[0;36m<module>\u001b[1;34m\u001b[0m\n\u001b[1;32m----> 1\u001b[1;33m \u001b[0mprint\u001b[0m\u001b[1;33m(\u001b[0m\u001b[0mendangered\u001b[0m\u001b[1;33m.\u001b[0m\u001b[0mindex\u001b[0m\u001b[1;33m(\u001b[0m\u001b[1;34m'Asiatic Lion'\u001b[0m\u001b[1;33m)\u001b[0m\u001b[1;33m)\u001b[0m\u001b[1;33m\u001b[0m\u001b[1;33m\u001b[0m\u001b[0m\n\u001b[0m",
      "\u001b[1;32mC:\\ProgramData\\Anaconda3\\lib\\site-packages\\pandas\\core\\generic.py\u001b[0m in \u001b[0;36m__nonzero__\u001b[1;34m(self)\u001b[0m\n\u001b[0;32m   1476\u001b[0m         raise ValueError(\"The truth value of a {0} is ambiguous. \"\n\u001b[0;32m   1477\u001b[0m                          \u001b[1;34m\"Use a.empty, a.bool(), a.item(), a.any() or a.all().\"\u001b[0m\u001b[1;33m\u001b[0m\u001b[1;33m\u001b[0m\u001b[0m\n\u001b[1;32m-> 1478\u001b[1;33m                          .format(self.__class__.__name__))\n\u001b[0m\u001b[0;32m   1479\u001b[0m \u001b[1;33m\u001b[0m\u001b[0m\n\u001b[0;32m   1480\u001b[0m     \u001b[0m__bool__\u001b[0m \u001b[1;33m=\u001b[0m \u001b[0m__nonzero__\u001b[0m\u001b[1;33m\u001b[0m\u001b[1;33m\u001b[0m\u001b[0m\n",
      "\u001b[1;31mValueError\u001b[0m: The truth value of a Series is ambiguous. Use a.empty, a.bool(), a.item(), a.any() or a.all()."
     ]
    }
   ],
   "source": [
    "df = pd.read_excel (r'Species.xlsx')\n",
    "name=''\n",
    "for index,row in df.iterrows():\n",
    "    if(row['Species']==res):\n",
    "        name=row\n",
    "        break"
   ]
  },
  {
   "cell_type": "code",
   "execution_count": 9,
   "metadata": {},
   "outputs": [
    {
     "name": "stdout",
     "output_type": "stream",
     "text": [
      "Asiatic Lion saved after 12.0 years\n",
      "Bengal Tiger saved after 10.0 years\n",
      "Black Buck saved after 5.0 years\n",
      "Red Panda saved after 10.0 years\n"
     ]
    }
   ],
   "source": [
    "for name in endangered:\n",
    "    #print(name)\n",
    "    sp=pd.read_excel(name['Species']+'.xlsx')\n",
    "    females=[]\n",
    "    children=[]\n",
    "    timeTaken=0\n",
    "    l=len(sp.index)\n",
    "    for index,row in sp.iterrows():\n",
    "        if(index<l-1):\n",
    "            temp=filter(checkFemaleAge,list(map(int,row['Female Age Array'].split(','))))\n",
    "            females+=temp\n",
    "    while((sp['Male Count'].iloc[-1]+len(females)<name['Threshold'])):\n",
    "        breed()\n",
    "        females=list(map(ageInc,females))\n",
    "        children=list(map(ageInc,children))\n",
    "        timeTaken+=(name['Time to Breed(yrs)'])\n",
    "\n",
    "        checkFemaleLife()\n",
    "        checkChildAge()\n",
    "        #print(sp['Male Count'].iloc[-1]+len(females),end='^')\n",
    "        #print('F=',len(females))\n",
    "        #print('C=',len(children))\n",
    "\n",
    "    print(name['Species']+' saved after',timeTaken,'years')"
   ]
  },
  {
   "cell_type": "raw",
   "metadata": {},
   "source": [
    "name=endangered[0]"
   ]
  },
  {
   "cell_type": "raw",
   "metadata": {},
   "source": [
    "sp=pd.read_excel(name['Species']+'.xlsx')\n",
    "females=[]\n",
    "children=[]\n",
    "timeTaken=0\n",
    "l=len(sp.index)\n",
    "for index,row in sp.iterrows():\n",
    "    if(index<l-1):\n",
    "        temp=filter(checkFemaleAge,list(map(int,row['Female Age Array'].split(','))))\n",
    "        females+=temp"
   ]
  },
  {
   "cell_type": "raw",
   "metadata": {},
   "source": [
    "print(females)"
   ]
  },
  {
   "cell_type": "raw",
   "metadata": {},
   "source": [
    "while((sp['Male Count'].iloc[-1]+len(females)<name['Threshold'])):\n",
    "    breed()\n",
    "    females=list(map(ageInc,females))\n",
    "    children=list(map(ageInc,children))\n",
    "    timeTaken+=int(name['Time to Breed(yrs)'])\n",
    "    \n",
    "    checkFemaleLife()\n",
    "    checkChildAge()\n",
    "    \n",
    "print(name['Species']+' saved after',timeTaken,'years')"
   ]
  },
  {
   "cell_type": "raw",
   "metadata": {},
   "source": [
    "sp['Male Count'].iloc[-1]+len(females)<name['Threshold']"
   ]
  },
  {
   "cell_type": "raw",
   "metadata": {},
   "source": [
    "name['Threshold']"
   ]
  }
 ],
 "metadata": {
  "kernelspec": {
   "display_name": "Python 3",
   "language": "python",
   "name": "python3"
  },
  "language_info": {
   "codemirror_mode": {
    "name": "ipython",
    "version": 3
   },
   "file_extension": ".py",
   "mimetype": "text/x-python",
   "name": "python",
   "nbconvert_exporter": "python",
   "pygments_lexer": "ipython3",
   "version": "3.7.3"
  }
 },
 "nbformat": 4,
 "nbformat_minor": 2
}
