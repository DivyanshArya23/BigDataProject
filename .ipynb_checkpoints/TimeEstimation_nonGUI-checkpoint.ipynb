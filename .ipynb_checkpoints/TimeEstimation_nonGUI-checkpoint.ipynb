{
 "cells": [
  {
   "cell_type": "markdown",
   "metadata": {},
   "source": [
    "#### Importing required libraries"
   ]
  },
  {
   "cell_type": "code",
   "execution_count": 1,
   "metadata": {},
   "outputs": [],
   "source": [
    "#import numpy as np\n",
    "import pandas as pd"
   ]
  },
  {
   "cell_type": "markdown",
   "metadata": {},
   "source": [
    "#### Reading Species Dataset"
   ]
  },
  {
   "cell_type": "code",
   "execution_count": 2,
   "metadata": {},
   "outputs": [],
   "source": [
    "df = pd.read_excel (r'Species.xlsx')\n",
    "#print (df)"
   ]
  },
  {
   "cell_type": "markdown",
   "metadata": {},
   "source": [
    "#### filtering Endangered species: This will filter out the endangered species from the dataset to process their data seperately"
   ]
  },
  {
   "cell_type": "code",
   "execution_count": 3,
   "metadata": {},
   "outputs": [],
   "source": [
    "endangered=[]\n",
    "for index,row in df.iterrows():\n",
    "    if(row['isEndangered']==1):\n",
    "        endangered.append(row)\n",
    "# print(endangered)\n",
    "# for i in endangered:\n",
    "#     print('-'*10)\n",
    "#     print(i)"
   ]
  },
  {
   "cell_type": "markdown",
   "metadata": {},
   "source": [
    "#### Function to check if a female age is above BreedAge"
   ]
  },
  {
   "cell_type": "code",
   "execution_count": 4,
   "metadata": {},
   "outputs": [],
   "source": [
    "def checkFemaleAge(age):\n",
    "    if(age<int(name['Breed Age Limit'])):\n",
    "        return True\n",
    "    else:\n",
    "        return False"
   ]
  },
  {
   "cell_type": "markdown",
   "metadata": {},
   "source": [
    "#### Functioln to filter children above maturity age and add them to females"
   ]
  },
  {
   "cell_type": "code",
   "execution_count": 5,
   "metadata": {},
   "outputs": [],
   "source": [
    "def checkChildAge():\n",
    "    global female\n",
    "    global children\n",
    "    mAge=int(name['Maturity Age'])\n",
    "    tempChildren=[]\n",
    "    for i in range(len(children)):\n",
    "        x=children[i]\n",
    "        if(x>=mAge):\n",
    "            females.append(x)\n",
    "        else:\n",
    "            tempChildren.append(x)\n",
    "    children=tempChildren"
   ]
  },
  {
   "cell_type": "markdown",
   "metadata": {},
   "source": [
    "#### Function to check if female age is above life expectancy, if yes then remove them from female array as they are dead"
   ]
  },
  {
   "cell_type": "code",
   "execution_count": 6,
   "metadata": {},
   "outputs": [],
   "source": [
    "def checkFemaleLife():\n",
    "    global females\n",
    "    mAge=int(name['Life Expectancy'])\n",
    "    tempFemales=[]\n",
    "    for i in range(len(females)):\n",
    "        x=females[i]\n",
    "        if(x<mAge):\n",
    "            tempFemales.append(x)\n",
    "    females=tempFemales"
   ]
  },
  {
   "cell_type": "markdown",
   "metadata": {},
   "source": [
    "#### Breed function adds new offsprings to children array"
   ]
  },
  {
   "cell_type": "code",
   "execution_count": 7,
   "metadata": {},
   "outputs": [],
   "source": [
    "def breed():\n",
    "    global children\n",
    "    children+=[0]*(len(females)*int(name['Birth Factor']))"
   ]
  },
  {
   "cell_type": "markdown",
   "metadata": {},
   "source": [
    "#### Function to Increase Age during one breeding period"
   ]
  },
  {
   "cell_type": "code",
   "execution_count": 8,
   "metadata": {},
   "outputs": [],
   "source": [
    "def ageInc(age):\n",
    "    age+=(name['Time to Breed(yrs)'])\n",
    "    return age"
   ]
  },
  {
   "cell_type": "code",
   "execution_count": 9,
   "metadata": {},
   "outputs": [
    {
     "name": "stdout",
     "output_type": "stream",
     "text": [
      "Asiatic Lion saved after 12.0 years\n",
      "Bengal Tiger saved after 10.0 years\n",
      "Black Buck saved after 5.0 years\n",
      "Red Panda saved after 10.0 years\n"
     ]
    }
   ],
   "source": [
    "for name in endangered:\n",
    "    #print(name)\n",
    "    sp=pd.read_excel(name['Species']+'.xlsx')\n",
    "    females=[]\n",
    "    children=[]\n",
    "    timeTaken=0\n",
    "    l=len(sp.index)\n",
    "    for index,row in sp.iterrows():\n",
    "        if(index<l-1):\n",
    "            temp=filter(checkFemaleAge,list(map(int,row['Female Age Array'].split(','))))\n",
    "            females+=temp\n",
    "    while((sp['Male Count'].iloc[-1]+len(females)<name['Threshold'])):\n",
    "        breed()\n",
    "        females=list(map(ageInc,females))\n",
    "        children=list(map(ageInc,children))\n",
    "        timeTaken+=(name['Time to Breed(yrs)'])\n",
    "\n",
    "        checkFemaleLife()\n",
    "        checkChildAge()\n",
    "        #print(sp['Male Count'].iloc[-1]+len(females),end='^')\n",
    "        #print('F=',len(females))\n",
    "        #print('C=',len(children))\n",
    "\n",
    "    print(name['Species']+' saved after',timeTaken,'years')"
   ]
  },
  {
   "cell_type": "raw",
   "metadata": {},
   "source": [
    "name=endangered[0]"
   ]
  },
  {
   "cell_type": "raw",
   "metadata": {},
   "source": [
    "sp=pd.read_excel(name['Species']+'.xlsx')\n",
    "females=[]\n",
    "children=[]\n",
    "timeTaken=0\n",
    "l=len(sp.index)\n",
    "for index,row in sp.iterrows():\n",
    "    if(index<l-1):\n",
    "        temp=filter(checkFemaleAge,list(map(int,row['Female Age Array'].split(','))))\n",
    "        females+=temp"
   ]
  },
  {
   "cell_type": "raw",
   "metadata": {},
   "source": [
    "print(females)"
   ]
  },
  {
   "cell_type": "raw",
   "metadata": {},
   "source": [
    "while((sp['Male Count'].iloc[-1]+len(females)<name['Threshold'])):\n",
    "    breed()\n",
    "    females=list(map(ageInc,females))\n",
    "    children=list(map(ageInc,children))\n",
    "    timeTaken+=int(name['Time to Breed(yrs)'])\n",
    "    \n",
    "    checkFemaleLife()\n",
    "    checkChildAge()\n",
    "    \n",
    "print(name['Species']+' saved after',timeTaken,'years')"
   ]
  },
  {
   "cell_type": "raw",
   "metadata": {},
   "source": [
    "sp['Male Count'].iloc[-1]+len(females)<name['Threshold']"
   ]
  },
  {
   "cell_type": "raw",
   "metadata": {},
   "source": [
    "name['Threshold']"
   ]
  }
 ],
 "metadata": {
  "kernelspec": {
   "display_name": "Python 3",
   "language": "python",
   "name": "python3"
  },
  "language_info": {
   "codemirror_mode": {
    "name": "ipython",
    "version": 3
   },
   "file_extension": ".py",
   "mimetype": "text/x-python",
   "name": "python",
   "nbconvert_exporter": "python",
   "pygments_lexer": "ipython3",
   "version": "3.7.3"
  }
 },
 "nbformat": 4,
 "nbformat_minor": 2
}
