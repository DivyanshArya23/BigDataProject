{
 "cells": [
  {
   "cell_type": "markdown",
   "metadata": {},
   "source": [
    "### importing required modules"
   ]
  },
  {
   "cell_type": "code",
   "execution_count": 34,
   "metadata": {},
   "outputs": [],
   "source": [
    "#import numpy as np\n",
    "import pandas as pd"
   ]
  },
  {
   "cell_type": "markdown",
   "metadata": {},
   "source": [
    "### importing species dataset"
   ]
  },
  {
   "cell_type": "code",
   "execution_count": 35,
   "metadata": {
    "scrolled": true
   },
   "outputs": [],
   "source": [
    "df = pd.read_excel (r'Species.xlsx')\n",
    "#print (df)"
   ]
  },
  {
   "cell_type": "markdown",
   "metadata": {},
   "source": [
    "### finding endangered species from the species dataset and acquiring their details"
   ]
  },
  {
   "cell_type": "code",
   "execution_count": 47,
   "metadata": {},
   "outputs": [],
   "source": [
    "endangered=[]\n",
    "for index,row in df.iterrows():\n",
    "    if(row['isEndangered']==1):\n",
    "        endangered.append(row)\n",
    "# print(endangered)\n",
    "# for i in endangered:\n",
    "#     print('-'*10)\n",
    "#     print(i)"
   ]
  },
  {
   "cell_type": "markdown",
   "metadata": {},
   "source": [
    "### taking a random species for now"
   ]
  },
  {
   "cell_type": "code",
   "execution_count": 85,
   "metadata": {},
   "outputs": [
    {
     "data": {
      "text/plain": [
       "Species               Asiatic Lion\n",
       "Count                          356\n",
       "isEndangered                     1\n",
       "Birth Factor                     4\n",
       "Time to Breed(yrs)               2\n",
       "Breed Age Limit                 15\n",
       "Name: 0, dtype: object"
      ]
     },
     "execution_count": 85,
     "metadata": {},
     "output_type": "execute_result"
    }
   ],
   "source": [
    "name=endangered[0]\n",
    "name"
   ]
  },
  {
   "cell_type": "code",
   "execution_count": 82,
   "metadata": {
    "scrolled": true
   },
   "outputs": [
    {
     "data": {
      "text/html": [
       "<div>\n",
       "<style scoped>\n",
       "    .dataframe tbody tr th:only-of-type {\n",
       "        vertical-align: middle;\n",
       "    }\n",
       "\n",
       "    .dataframe tbody tr th {\n",
       "        vertical-align: top;\n",
       "    }\n",
       "\n",
       "    .dataframe thead th {\n",
       "        text-align: right;\n",
       "    }\n",
       "</style>\n",
       "<table border=\"1\" class=\"dataframe\">\n",
       "  <thead>\n",
       "    <tr style=\"text-align: right;\">\n",
       "      <th></th>\n",
       "      <th>Location</th>\n",
       "      <th>Male Count</th>\n",
       "      <th>Female Count</th>\n",
       "      <th>Female Age Array</th>\n",
       "    </tr>\n",
       "  </thead>\n",
       "  <tbody>\n",
       "    <tr>\n",
       "      <th>0</th>\n",
       "      <td>Jim Corbett National Park</td>\n",
       "      <td>51</td>\n",
       "      <td>30</td>\n",
       "      <td>20, 14, 11, 17, 11, 11, 16, 12, 20, 12, 20, 19...</td>\n",
       "    </tr>\n",
       "    <tr>\n",
       "      <th>1</th>\n",
       "      <td>Ranthambor National Park</td>\n",
       "      <td>60</td>\n",
       "      <td>40</td>\n",
       "      <td>19, 20, 12, 20, 20, 19, 12, 14, 18, 10, 15, 11...</td>\n",
       "    </tr>\n",
       "    <tr>\n",
       "      <th>2</th>\n",
       "      <td>Nagarhole National Park</td>\n",
       "      <td>30</td>\n",
       "      <td>25</td>\n",
       "      <td>11, 13, 13, 12, 15, 16, 11, 19, 14, 17, 12, 20...</td>\n",
       "    </tr>\n",
       "    <tr>\n",
       "      <th>3</th>\n",
       "      <td>Kaziranga National Park</td>\n",
       "      <td>70</td>\n",
       "      <td>50</td>\n",
       "      <td>12, 18, 14, 19, 17, 19, 19, 12, 16, 12, 10, 11...</td>\n",
       "    </tr>\n",
       "    <tr>\n",
       "      <th>4</th>\n",
       "      <td>TOTAL</td>\n",
       "      <td>211</td>\n",
       "      <td>145</td>\n",
       "      <td>356</td>\n",
       "    </tr>\n",
       "  </tbody>\n",
       "</table>\n",
       "</div>"
      ],
      "text/plain": [
       "                    Location  Male Count  Female Count  \\\n",
       "0  Jim Corbett National Park          51            30   \n",
       "1   Ranthambor National Park          60            40   \n",
       "2    Nagarhole National Park          30            25   \n",
       "3    Kaziranga National Park          70            50   \n",
       "4                      TOTAL         211           145   \n",
       "\n",
       "                                    Female Age Array  \n",
       "0  20, 14, 11, 17, 11, 11, 16, 12, 20, 12, 20, 19...  \n",
       "1  19, 20, 12, 20, 20, 19, 12, 14, 18, 10, 15, 11...  \n",
       "2  11, 13, 13, 12, 15, 16, 11, 19, 14, 17, 12, 20...  \n",
       "3  12, 18, 14, 19, 17, 19, 19, 12, 16, 12, 10, 11...  \n",
       "4                                                356  "
      ]
     },
     "execution_count": 82,
     "metadata": {},
     "output_type": "execute_result"
    }
   ],
   "source": [
    "sp=pd.read_excel(name['Species']+'.xlsx')\n",
    "sp"
   ]
  },
  {
   "cell_type": "code",
   "execution_count": 91,
   "metadata": {},
   "outputs": [],
   "source": [
    "def checkFemaleAge(age):\n",
    "    if(age<int(name['Breed Age Limit'])):\n",
    "        return True\n",
    "    else:\n",
    "        return False"
   ]
  },
  {
   "cell_type": "code",
   "execution_count": null,
   "metadata": {},
   "outputs": [],
   "source": [
    "def checkChildAge(age):\n",
    "    if(age>=)"
   ]
  },
  {
   "cell_type": "code",
   "execution_count": 100,
   "metadata": {},
   "outputs": [],
   "source": [
    "females=[]\n",
    "children=[]\n",
    "timeTaken=0"
   ]
  },
  {
   "cell_type": "markdown",
   "metadata": {},
   "source": [
    "#### filtering females fit for breeding"
   ]
  },
  {
   "cell_type": "code",
   "execution_count": 101,
   "metadata": {},
   "outputs": [],
   "source": [
    "l=len(sp.index)\n",
    "for index,row in sp.iterrows():\n",
    "    if(index<l-1):\n",
    "        temp=filter(checkFemaleAge,list(map(int,row['Female Age Array'].split(','))))\n",
    "        females+=temp\n",
    "# print(females)"
   ]
  },
  {
   "cell_type": "code",
   "execution_count": 102,
   "metadata": {},
   "outputs": [],
   "source": [
    "children+=[0]*(len(females)+int(name['Birth Factor']))"
   ]
  },
  {
   "cell_type": "code",
   "execution_count": 103,
   "metadata": {},
   "outputs": [],
   "source": [
    "timeTaken+=int(name['Time to Breed(yrs)'])"
   ]
  },
  {
   "cell_type": "code",
   "execution_count": null,
   "metadata": {},
   "outputs": [],
   "source": []
  }
 ],
 "metadata": {
  "kernelspec": {
   "display_name": "Python 3",
   "language": "python",
   "name": "python3"
  },
  "language_info": {
   "codemirror_mode": {
    "name": "ipython",
    "version": 3
   },
   "file_extension": ".py",
   "mimetype": "text/x-python",
   "name": "python",
   "nbconvert_exporter": "python",
   "pygments_lexer": "ipython3",
   "version": "3.7.3"
  }
 },
 "nbformat": 4,
 "nbformat_minor": 2
}
