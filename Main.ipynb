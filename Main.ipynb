{
 "cells": [
  {
   "cell_type": "markdown",
   "metadata": {},
   "source": [
    "### importing required modules"
   ]
  },
  {
   "cell_type": "code",
   "execution_count": 236,
   "metadata": {},
   "outputs": [],
   "source": [
    "#import numpy as np\n",
    "import pandas as pd"
   ]
  },
  {
   "cell_type": "markdown",
   "metadata": {},
   "source": [
    "### importing species dataset"
   ]
  },
  {
   "cell_type": "code",
   "execution_count": 237,
   "metadata": {
    "scrolled": true
   },
   "outputs": [],
   "source": [
    "df = pd.read_excel (r'Species.xlsx')\n",
    "#print (df)"
   ]
  },
  {
   "cell_type": "markdown",
   "metadata": {},
   "source": [
    "### finding endangered species from the species dataset and acquiring their details"
   ]
  },
  {
   "cell_type": "code",
   "execution_count": 238,
   "metadata": {},
   "outputs": [],
   "source": [
    "endangered=[]\n",
    "for index,row in df.iterrows():\n",
    "    if(row['isEndangered']==1):\n",
    "        endangered.append(row)\n",
    "# print(endangered)\n",
    "# for i in endangered:\n",
    "#     print('-'*10)\n",
    "#     print(i)"
   ]
  },
  {
   "cell_type": "markdown",
   "metadata": {},
   "source": [
    "### taking a random species for now"
   ]
  },
  {
   "cell_type": "code",
   "execution_count": 239,
   "metadata": {},
   "outputs": [
    {
     "data": {
      "text/plain": [
       "Species               Asiatic Lion\n",
       "Count                          356\n",
       "isEndangered                     1\n",
       "Birth Factor                     4\n",
       "Time to Breed(yrs)               2\n",
       "Breed Age Limit                 15\n",
       "Maturity Age                    10\n",
       "Life Expectancy                 20\n",
       "Threshold                      700\n",
       "Name: 0, dtype: object"
      ]
     },
     "execution_count": 239,
     "metadata": {},
     "output_type": "execute_result"
    }
   ],
   "source": [
    "name=endangered[0]\n",
    "name"
   ]
  },
  {
   "cell_type": "code",
   "execution_count": 240,
   "metadata": {
    "scrolled": true
   },
   "outputs": [
    {
     "data": {
      "text/html": [
       "<div>\n",
       "<style scoped>\n",
       "    .dataframe tbody tr th:only-of-type {\n",
       "        vertical-align: middle;\n",
       "    }\n",
       "\n",
       "    .dataframe tbody tr th {\n",
       "        vertical-align: top;\n",
       "    }\n",
       "\n",
       "    .dataframe thead th {\n",
       "        text-align: right;\n",
       "    }\n",
       "</style>\n",
       "<table border=\"1\" class=\"dataframe\">\n",
       "  <thead>\n",
       "    <tr style=\"text-align: right;\">\n",
       "      <th></th>\n",
       "      <th>Location</th>\n",
       "      <th>Male Count</th>\n",
       "      <th>Female Count</th>\n",
       "      <th>Female Age Array</th>\n",
       "    </tr>\n",
       "  </thead>\n",
       "  <tbody>\n",
       "    <tr>\n",
       "      <th>0</th>\n",
       "      <td>Jim Corbett National Park</td>\n",
       "      <td>51</td>\n",
       "      <td>30</td>\n",
       "      <td>20, 14, 11, 17, 11, 11, 16, 12, 20, 12, 20, 19...</td>\n",
       "    </tr>\n",
       "    <tr>\n",
       "      <th>1</th>\n",
       "      <td>Ranthambor National Park</td>\n",
       "      <td>60</td>\n",
       "      <td>40</td>\n",
       "      <td>19, 20, 12, 20, 20, 19, 12, 14, 18, 10, 15, 11...</td>\n",
       "    </tr>\n",
       "    <tr>\n",
       "      <th>2</th>\n",
       "      <td>Nagarhole National Park</td>\n",
       "      <td>30</td>\n",
       "      <td>25</td>\n",
       "      <td>11, 13, 13, 12, 15, 16, 11, 19, 14, 17, 12, 20...</td>\n",
       "    </tr>\n",
       "    <tr>\n",
       "      <th>3</th>\n",
       "      <td>Kaziranga National Park</td>\n",
       "      <td>70</td>\n",
       "      <td>50</td>\n",
       "      <td>12, 18, 14, 19, 17, 19, 19, 12, 16, 12, 10, 11...</td>\n",
       "    </tr>\n",
       "    <tr>\n",
       "      <th>4</th>\n",
       "      <td>TOTAL</td>\n",
       "      <td>211</td>\n",
       "      <td>145</td>\n",
       "      <td>356</td>\n",
       "    </tr>\n",
       "  </tbody>\n",
       "</table>\n",
       "</div>"
      ],
      "text/plain": [
       "                    Location  Male Count  Female Count  \\\n",
       "0  Jim Corbett National Park          51            30   \n",
       "1   Ranthambor National Park          60            40   \n",
       "2    Nagarhole National Park          30            25   \n",
       "3    Kaziranga National Park          70            50   \n",
       "4                      TOTAL         211           145   \n",
       "\n",
       "                                    Female Age Array  \n",
       "0  20, 14, 11, 17, 11, 11, 16, 12, 20, 12, 20, 19...  \n",
       "1  19, 20, 12, 20, 20, 19, 12, 14, 18, 10, 15, 11...  \n",
       "2  11, 13, 13, 12, 15, 16, 11, 19, 14, 17, 12, 20...  \n",
       "3  12, 18, 14, 19, 17, 19, 19, 12, 16, 12, 10, 11...  \n",
       "4                                                356  "
      ]
     },
     "execution_count": 240,
     "metadata": {},
     "output_type": "execute_result"
    }
   ],
   "source": [
    "sp=pd.read_excel(name['Species']+'.xlsx')\n",
    "sp"
   ]
  },
  {
   "cell_type": "code",
   "execution_count": 241,
   "metadata": {},
   "outputs": [],
   "source": [
    "def checkFemaleAge(age):\n",
    "    if(age<int(name['Breed Age Limit'])):\n",
    "        return True\n",
    "    else:\n",
    "        return False"
   ]
  },
  {
   "cell_type": "code",
   "execution_count": 242,
   "metadata": {},
   "outputs": [],
   "source": [
    "def checkChildAge():\n",
    "    global female\n",
    "    global children\n",
    "    mAge=int(name['Maturity Age'])\n",
    "    tempChildren=[]\n",
    "    for i in range(len(children)):\n",
    "        x=children[i]\n",
    "        if(x>=mAge):\n",
    "            females.append(x)\n",
    "        else:\n",
    "            tempChildren.append(x)\n",
    "    children=tempChildren"
   ]
  },
  {
   "cell_type": "code",
   "execution_count": 243,
   "metadata": {},
   "outputs": [],
   "source": [
    "def checkFemaleLife():\n",
    "    global females\n",
    "    mAge=int(name['Life Expectancy'])\n",
    "    tempFemales=[]\n",
    "    for i in range(len(females)):\n",
    "        x=females[i]\n",
    "        if(x<mAge):\n",
    "            tempFemales.append(x)\n",
    "    females=tempFemales"
   ]
  },
  {
   "cell_type": "code",
   "execution_count": 244,
   "metadata": {},
   "outputs": [],
   "source": [
    "def breed():\n",
    "    global children\n",
    "    children+=[0]*(len(females)*int(name['Birth Factor']))"
   ]
  },
  {
   "cell_type": "code",
   "execution_count": 245,
   "metadata": {},
   "outputs": [],
   "source": [
    "def ageInc(age):\n",
    "    age+=int(name['Time to Breed(yrs)'])\n",
    "    return age"
   ]
  },
  {
   "cell_type": "code",
   "execution_count": 246,
   "metadata": {},
   "outputs": [],
   "source": [
    "females=[]\n",
    "children=[]\n",
    "timeTaken=0"
   ]
  },
  {
   "cell_type": "markdown",
   "metadata": {},
   "source": [
    "#### filtering females fit for breeding"
   ]
  },
  {
   "cell_type": "markdown",
   "metadata": {},
   "source": [
    "##### Step 1"
   ]
  },
  {
   "cell_type": "code",
   "execution_count": 247,
   "metadata": {},
   "outputs": [],
   "source": [
    "l=len(sp.index)\n",
    "for index,row in sp.iterrows():\n",
    "    if(index<l-1):\n",
    "        temp=filter(checkFemaleAge,list(map(int,row['Female Age Array'].split(','))))\n",
    "        females+=temp\n",
    "# print(females)"
   ]
  },
  {
   "cell_type": "markdown",
   "metadata": {},
   "source": [
    "##### Step 2"
   ]
  },
  {
   "cell_type": "code",
   "execution_count": 250,
   "metadata": {},
   "outputs": [],
   "source": [
    "breed()"
   ]
  },
  {
   "cell_type": "markdown",
   "metadata": {},
   "source": [
    "##### Step 3"
   ]
  },
  {
   "cell_type": "code",
   "execution_count": 253,
   "metadata": {},
   "outputs": [],
   "source": [
    "females=list(map(ageInc,females))\n",
    "children=list(map(ageInc,children))"
   ]
  },
  {
   "cell_type": "code",
   "execution_count": 254,
   "metadata": {},
   "outputs": [],
   "source": [
    "timeTaken+=int(name['Time to Breed(yrs)'])"
   ]
  },
  {
   "cell_type": "markdown",
   "metadata": {},
   "source": [
    "##### Step 4"
   ]
  },
  {
   "cell_type": "code",
   "execution_count": 259,
   "metadata": {},
   "outputs": [],
   "source": [
    "checkFemaleLife()"
   ]
  },
  {
   "cell_type": "markdown",
   "metadata": {},
   "source": [
    "##### Step 5"
   ]
  },
  {
   "cell_type": "code",
   "execution_count": null,
   "metadata": {},
   "outputs": [],
   "source": [
    "checkChildAge()"
   ]
  },
  {
   "cell_type": "markdown",
   "metadata": {},
   "source": [
    "##### Step 6"
   ]
  },
  {
   "cell_type": "code",
   "execution_count": 235,
   "metadata": {},
   "outputs": [
    {
     "data": {
      "text/plain": [
       "211"
      ]
     },
     "execution_count": 235,
     "metadata": {},
     "output_type": "execute_result"
    }
   ],
   "source": [
    "maleCount=sp['Male Count'].iloc[-1]\n",
    "femaleCount=len(females)"
   ]
  },
  {
   "cell_type": "code",
   "execution_count": null,
   "metadata": {},
   "outputs": [],
   "source": [
    "if((maleCount+femaleCount)>=threshold):\n",
    "    print('Species saved after',timeTaken,'years')"
   ]
  },
  {
   "cell_type": "code",
   "execution_count": 260,
   "metadata": {},
   "outputs": [
    {
     "name": "stdout",
     "output_type": "stream",
     "text": [
      "[16, 13, 13, 13, 14, 14, 14, 15, 14, 14, 12, 14, 15, 13, 14, 14, 14, 16, 12, 13, 12, 13, 14, 16, 12, 12, 14, 13, 13, 14, 16, 16, 13, 16, 12, 13, 15, 15, 14, 13, 16, 14, 16, 15, 14, 16, 15, 15, 14, 16, 14, 14, 12, 13, 14, 15, 15, 15, 12, 16, 14, 14, 12, 12, 14, 16, 15, 16, 13]\n"
     ]
    }
   ],
   "source": [
    "print(females)"
   ]
  },
  {
   "cell_type": "code",
   "execution_count": 256,
   "metadata": {
    "scrolled": true
   },
   "outputs": [
    {
     "name": "stdout",
     "output_type": "stream",
     "text": [
      "[2, 2, 2, 2, 2, 2, 2, 2, 2, 2, 2, 2, 2, 2, 2, 2, 2, 2, 2, 2, 2, 2, 2, 2, 2, 2, 2, 2, 2, 2, 2, 2, 2, 2, 2, 2, 2, 2, 2, 2, 2, 2, 2, 2, 2, 2, 2, 2, 2, 2, 2, 2, 2, 2, 2, 2, 2, 2, 2, 2, 2, 2, 2, 2, 2, 2, 2, 2, 2, 2, 2, 2, 2, 2, 2, 2, 2, 2, 2, 2, 2, 2, 2, 2, 2, 2, 2, 2, 2, 2, 2, 2, 2, 2, 2, 2, 2, 2, 2, 2, 2, 2, 2, 2, 2, 2, 2, 2, 2, 2, 2, 2, 2, 2, 2, 2, 2, 2, 2, 2, 2, 2, 2, 2, 2, 2, 2, 2, 2, 2, 2, 2, 2, 2, 2, 2, 2, 2, 2, 2, 2, 2, 2, 2, 2, 2, 2, 2, 2, 2, 2, 2, 2, 2, 2, 2, 2, 2, 2, 2, 2, 2, 2, 2, 2, 2, 2, 2, 2, 2, 2, 2, 2, 2, 2, 2, 2, 2, 2, 2, 2, 2, 2, 2, 2, 2, 2, 2, 2, 2, 2, 2, 2, 2, 2, 2, 2, 2, 2, 2, 2, 2, 2, 2, 2, 2, 2, 2, 2, 2, 2, 2, 2, 2, 2, 2, 2, 2, 2, 2, 2, 2, 2, 2, 2, 2, 2, 2, 2, 2, 2, 2, 2, 2, 2, 2, 2, 2, 2, 2, 2, 2, 2, 2, 2, 2, 2, 2, 2, 2, 2, 2, 2, 2, 2, 2, 2, 2, 2, 2, 2, 2, 2, 2, 2, 2, 2, 2, 2, 2, 2, 2, 2, 2, 2, 2]\n"
     ]
    }
   ],
   "source": [
    "print(children)"
   ]
  },
  {
   "cell_type": "code",
   "execution_count": null,
   "metadata": {},
   "outputs": [],
   "source": [
    "checkFemaleAge()"
   ]
  },
  {
   "cell_type": "code",
   "execution_count": 186,
   "metadata": {},
   "outputs": [],
   "source": [
    "children.append(25)"
   ]
  },
  {
   "cell_type": "code",
   "execution_count": 2,
   "metadata": {},
   "outputs": [],
   "source": [
    "%matplotlib inline\n",
    "import matplotlib.pyplot as plt\n",
    "import pandas as pd\n",
    "df = pd.read_excel (r'Ratio.xlsx')\n",
    "#print (df)"
   ]
  },
  {
   "cell_type": "code",
   "execution_count": 16,
   "metadata": {},
   "outputs": [
    {
     "data": {
      "text/plain": [
       "[<matplotlib.lines.Line2D at 0x1d9b8f98588>]"
      ]
     },
     "execution_count": 16,
     "metadata": {},
     "output_type": "execute_result"
    },
    {
     "data": {
      "image/png": "[encoded data removed]",
      "text/plain": [
       "<Figure size 432x288 with 1 Axes>"
      ]
     },
     "metadata": {
      "needs_background": "light"
     },
     "output_type": "display_data"
    }
   ],
   "source": [
    "plt.ylabel('Male/Female Ratio')\n",
    "plt.xlabel('Species')\n",
    "\n",
    "plt.xticks(rotation='vertical')\n",
    "plt.plot(df['Species'],df['Ratio'])"
   ]
  },
  {
   "cell_type": "code",
   "execution_count": 8,
   "metadata": {},
   "outputs": [],
   "source": [
    "plt.show()"
   ]
  },
  {
   "cell_type": "code",
   "execution_count": null,
   "metadata": {},
   "outputs": [],
   "source": []
  }
 ],
 "metadata": {
  "kernelspec": {
   "display_name": "Python 3",
   "language": "python",
   "name": "python3"
  },
  "language_info": {
   "codemirror_mode": {
    "name": "ipython",
    "version": 3
   },
   "file_extension": ".py",
   "mimetype": "text/x-python",
   "name": "python",
   "nbconvert_exporter": "python",
   "pygments_lexer": "ipython3",
   "version": "3.7.3"
  }
 },
 "nbformat": 4,
 "nbformat_minor": 2
}
