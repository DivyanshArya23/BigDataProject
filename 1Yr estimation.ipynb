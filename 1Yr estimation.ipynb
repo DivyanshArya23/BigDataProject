{
 "cells": [
  {
   "cell_type": "markdown",
   "metadata": {},
   "source": [
    "### importing required modules"
   ]
  },
  {
   "cell_type": "code",
   "execution_count": 1,
   "metadata": {},
   "outputs": [],
   "source": [
    "#import numpy as np\n",
    "import pandas as pd"
   ]
  },
  {
   "cell_type": "markdown",
   "metadata": {},
   "source": [
    "### importing species dataset"
   ]
  },
  {
   "cell_type": "code",
   "execution_count": 2,
   "metadata": {
    "scrolled": true
   },
   "outputs": [],
   "source": [
    "df = pd.read_excel (r'Species.xlsx')\n",
    "#print (df)"
   ]
  },
  {
   "cell_type": "markdown",
   "metadata": {},
   "source": [
    "### finding endangered species from the species dataset and acquiring their details"
   ]
  },
  {
   "cell_type": "code",
   "execution_count": 3,
   "metadata": {},
   "outputs": [],
   "source": [
    "endangered=[]\n",
    "for index,row in df.iterrows():\n",
    "    if(row['isEndangered']==1):\n",
    "        endangered.append(row)\n",
    "# print(endangered)\n",
    "# for i in endangered:\n",
    "#     print('-'*10)\n",
    "#     print(i)"
   ]
  },
  {
   "cell_type": "markdown",
   "metadata": {},
   "source": [
    "### taking a random species for now"
   ]
  },
  {
   "cell_type": "raw",
   "metadata": {},
   "source": [
    "name=endangered[0]\n",
    "name"
   ]
  },
  {
   "cell_type": "raw",
   "metadata": {
    "scrolled": true
   },
   "source": [
    "sp=pd.read_excel(name['Species']+'.xlsx')\n",
    "sp"
   ]
  },
  {
   "cell_type": "code",
   "execution_count": 4,
   "metadata": {},
   "outputs": [],
   "source": [
    "def checkFemaleAge(age):\n",
    "    if(age<int(name['Breed Age Limit'])):\n",
    "        return True\n",
    "    else:\n",
    "        return False"
   ]
  },
  {
   "cell_type": "code",
   "execution_count": 5,
   "metadata": {},
   "outputs": [],
   "source": [
    "def breed():\n",
    "    global children\n",
    "    children+=[0]*(len(females)*int(name['Birth Factor']))"
   ]
  },
  {
   "cell_type": "markdown",
   "metadata": {},
   "source": [
    "females=[]\n",
    "children=[]"
   ]
  },
  {
   "cell_type": "markdown",
   "metadata": {},
   "source": [
    "#### filtering females fit for breeding"
   ]
  },
  {
   "cell_type": "markdown",
   "metadata": {},
   "source": [
    "##### Step 1"
   ]
  },
  {
   "cell_type": "markdown",
   "metadata": {},
   "source": [
    "l=len(sp.index)\n",
    "for index,row in sp.iterrows():\n",
    "    if(index<l-1):\n",
    "        temp=filter(checkFemaleAge,list(map(int,row['Female Age Array'].split(','))))\n",
    "        females+=temp\n",
    "# print(females)"
   ]
  },
  {
   "cell_type": "markdown",
   "metadata": {},
   "source": [
    "##### Step 2"
   ]
  },
  {
   "cell_type": "markdown",
   "metadata": {},
   "source": [
    "breed()"
   ]
  },
  {
   "cell_type": "markdown",
   "metadata": {},
   "source": [
    "if((sp['Male Count'].tail(1)+sp['Female Count'].tail(1)+len(children)>=name['Threshold']).tolist()[0]):\n",
    "    print(name['Species']+' can be saved in 1 Year time')\n",
    "else:\n",
    "    print(name['Species']+' cannot be saved in 1 Year time')"
   ]
  },
  {
   "cell_type": "code",
   "execution_count": 6,
   "metadata": {},
   "outputs": [
    {
     "name": "stdout",
     "output_type": "stream",
     "text": [
      "Asiatic Lion cannot be saved in 1 Year time\n",
      "Bengal Tiger cannot be saved in 1 Year time\n",
      "Black Buck cannot be saved in 1 Year time\n",
      "Red Panda cannot be saved in 1 Year time\n"
     ]
    }
   ],
   "source": [
    "for name in endangered:\n",
    "    sp=pd.read_excel(name['Species']+'.xlsx')\n",
    "    females=[]\n",
    "    children=[]\n",
    "    l=len(sp.index)\n",
    "    for index,row in sp.iterrows():\n",
    "        if(index<l-1):\n",
    "            temp=filter(checkFemaleAge,list(map(int,row['Female Age Array'].split(','))))\n",
    "            females+=temp\n",
    "    breed()\n",
    "    if((sp['Male Count'].tail(1)+sp['Female Count'].tail(1)+len(children)>=name['Threshold']).tolist()[0]):\n",
    "        print(name['Species']+' can be saved in 1 Year time')\n",
    "    else:\n",
    "        print(name['Species']+' cannot be saved in 1 Year time')"
   ]
  },
  {
   "cell_type": "code",
   "execution_count": null,
   "metadata": {},
   "outputs": [],
   "source": []
  }
 ],
 "metadata": {
  "kernelspec": {
   "display_name": "Python 3",
   "language": "python",
   "name": "python3"
  },
  "language_info": {
   "codemirror_mode": {
    "name": "ipython",
    "version": 3
   },
   "file_extension": ".py",
   "mimetype": "text/x-python",
   "name": "python",
   "nbconvert_exporter": "python",
   "pygments_lexer": "ipython3",
   "version": "3.7.3"
  }
 },
 "nbformat": 4,
 "nbformat_minor": 2
}
